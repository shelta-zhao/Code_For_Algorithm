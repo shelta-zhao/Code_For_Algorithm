{
 "cells": [
  {
   "cell_type": "code",
   "execution_count": 2,
   "metadata": {},
   "outputs": [
    {
     "name": "stdout",
     "output_type": "stream",
     "text": [
      "[0.46717064 0.54178708 0.40977153]\n",
      "[[0.46717064 0.         0.        ]\n",
      " [0.         0.54178708 0.        ]\n",
      " [0.         0.         0.40977153]]\n"
     ]
    }
   ],
   "source": [
    "import numpy as np\n",
    "\n",
    "a = np.random.random([3, 3])\n",
    "\n",
    "print(np.diag(a))\n",
    "print(np.diag(np.diag(a)))"
   ]
  },
  {
   "cell_type": "markdown",
   "metadata": {},
   "source": [
    "在 NumPy 中，多维数组（即 ndarray）的维度顺序通常是按从外到内的顺序排列的。例如，对于一个二维数组（矩阵），第一个维度代表行，第二个维度代表列。对于一个三维数组，维度顺序是深度、高度和宽度。"
   ]
  },
  {
   "cell_type": "code",
   "execution_count": 7,
   "metadata": {},
   "outputs": [
    {
     "data": {
      "image/png": "[encoded data removed]",
      "text/plain": [
       "<Figure size 800x600 with 2 Axes>"
      ]
     },
     "metadata": {},
     "output_type": "display_data"
    }
   ],
   "source": [
    "import numpy as np\n",
    "import matplotlib.pyplot as plt\n",
    "import seaborn as sns\n",
    "\n",
    "# 模拟数据\n",
    "data = np.array([\n",
    "    [0.0111, 0.0154, 0.0181, 0.0195, 0.0210, 0.0214, 0.0207, 0.0204, 0.0221, 0.0252],\n",
    "    [0.0235, 0.0305, 0.0363, 0.0377, 0.0393, 0.0398, 0.0391, 0.0384, 0.0422, 0.0460],\n",
    "    [0.0358, 0.0452, 0.0519, 0.0544, 0.0567, 0.0564, 0.0548, 0.0538, 0.0594, 0.0634],\n",
    "    [0.0493, 0.0622, 0.0692, 0.0712, 0.0737, 0.0721, 0.0690, 0.0702, 0.0777, 0.0817],\n",
    "    [0.0653, 0.0791, 0.0885, 0.0903, 0.0926, 0.0894, 0.0882, 0.0881, 0.0964, 0.1017],\n",
    "    [0.0863, 0.1005, 0.1103, 0.1131, 0.1155, 0.1122, 0.1091, 0.1090, 0.1211, 0.1245],\n",
    "    [0.1106, 0.1270, 0.1388, 0.1409, 0.1433, 0.1397, 0.1349, 0.1358, 0.1506, 0.1520],\n",
    "    [0.1470, 0.1643, 0.1760, 0.1774, 0.1795, 0.1744, 0.1700, 0.1725, 0.1870, 0.1878],\n",
    "    [0.2005, 0.2202, 0.2328, 0.2340, 0.2327, 0.2271, 0.2232, 0.2275, 0.2458, 0.2434]\n",
    "])\n",
    "\n",
    "# 创建热力图\n",
    "plt.figure(figsize=(8, 6))\n",
    "sns.heatmap(data, annot=True, cmap='YlGnBu')  # 'viridis' colormap\n",
    "plt.title('CVR Heatmap by Feelevel and Cvrlevel')\n",
    "plt.show()"
   ]
  },
  {
   "cell_type": "code",
   "execution_count": 5,
   "metadata": {},
   "outputs": [
    {
     "name": "stdout",
     "output_type": "stream",
     "text": [
      "[0. 0. 0. 0.]\n"
     ]
    }
   ],
   "source": [
    "# 导入相应的包\n",
    "import numpy as np\n",
    "tmp = np.zeros((4,))\n",
    "print(tmp)"
   ]
  },
  {
   "cell_type": "markdown",
   "metadata": {},
   "source": [
    "# 网络类型\n",
    "1. FC 全连接层\n",
    "2. CNN 卷积层\n",
    "3. LayerNorm 层\n",
    "4. BatchNorm 层"
   ]
  },
  {
   "cell_type": "code",
   "execution_count": 20,
   "metadata": {},
   "outputs": [],
   "source": [
    "# 全连接层\n",
    "\"\"\"\n",
    "前向传播:\n",
    "    - z = xW^T + b\n",
    "\n",
    "反向传播: dz为batch_size * output_dim\n",
    "    - dz/dW = dz^T * X, output_dim * input_dim\n",
    "    - dz/db = sum(dz), output_dim\n",
    "    - dz/dX = dz * W, batch_size * input_dim (对应上一层的输出)\n",
    "\n",
    "复杂度分析:\n",
    "    - 前向传播: O(batch_size, input_dim, output_dim)\n",
    "    - 后向传播: O(batch_size, input_dim, output_dim)\n",
    "\"\"\"\n",
    "class FullConnectedLayer:\n",
    "\n",
    "    def __init__(self, input_dim, output_dim, learning_rate=1e-2):\n",
    "        \n",
    "        # 初始化参数，randn是正太分布初始化\n",
    "        self.W = np.random.randn(output_dim, input_dim)\n",
    "        self.b = np.random.randn(output_dim)\n",
    "        self.learning_rate = learning_rate\n",
    "\n",
    "    \n",
    "    def forward(self, x):\n",
    "\n",
    "        # 全连接层计算 z = Wx + b\n",
    "        # x: batch_size * input_dim \n",
    "        # 维度不同时，numpy会通过广播机制进行补齐\n",
    "        self.input = x\n",
    "        self.z = np.dot(x, self.W.T) + self.b \n",
    "\n",
    "        # 注意要保留计算结果，用于反向传播\n",
    "        return self.z\n",
    "\n",
    "    def backward(self, dz):\n",
    "\n",
    "        # 计算梯度\n",
    "        # dz : batch * output_dim\n",
    "        dW = np.dot(dz.T, self.input)\n",
    "        db = np.sum(dz, axis=0)\n",
    "        dX = np.dot(dz, self.W)\n",
    "\n",
    "        # 更新参数\n",
    "        self.W -= self.lr * dW\n",
    "        self.b -= self.lr * db\n",
    "\n",
    "        return dX        "
   ]
  },
  {
   "cell_type": "markdown",
   "metadata": {},
   "source": [
    "---"
   ]
  },
  {
   "cell_type": "markdown",
   "metadata": {},
   "source": [
    "# 激活函数\n",
    "1. ReLU 激活函数\n",
    "2. Sigmoid 激活函数\n",
    "3. Softmax 激活函数"
   ]
  },
  {
   "cell_type": "code",
   "execution_count": null,
   "metadata": {},
   "outputs": [],
   "source": [
    "# ReLU 激活函数 \n",
    "\"\"\"\n",
    "前向传播\n",
    "    - output = max(X, 0)\n",
    "\n",
    "反向传播\n",
    "    - dz/dX = dz * (X > 0)\n",
    "\n",
    "复杂度分析\n",
    "    - 前向传播: O(batch_size, input_dim)\n",
    "    - 后向传播: O(batch_size, input_dim)\n",
    "\"\"\"\n",
    "class ReLULayer:\n",
    "\n",
    "    def __init__(self):\n",
    "        pass\n",
    "\n",
    "    def forward(self, x):\n",
    "\n",
    "\n",
    "        self.x = x\n",
    "        self.output = np.maximum(self.x, 0)\n",
    "\n",
    "        return self.output\n",
    "    \n",
    "    def backward(self, doutput):\n",
    "\n",
    "        dz = doutput * (self.input > 0).astype(float)\n",
    "        return dz"
   ]
  },
  {
   "cell_type": "markdown",
   "metadata": {},
   "source": [
    "---"
   ]
  },
  {
   "cell_type": "markdown",
   "metadata": {},
   "source": [
    "# 损失函数\n",
    "1. MSE 损失函数\n",
    "2. MAE 损失函数"
   ]
  },
  {
   "cell_type": "code",
   "execution_count": 18,
   "metadata": {},
   "outputs": [],
   "source": [
    "# MSE 损失函数\n",
    "\"\"\"\n",
    "前向传播:\n",
    "    - output = 1/N * sum(y_pred - y_true)\n",
    "\n",
    "反向传播:\n",
    "    - dL/dX = 2/batch_size * (y_pred - y_true)\n",
    "\n",
    "复杂度分析:\n",
    "    - 前向传播: O(batch_size, input_dim)\n",
    "    - 后向传播: O(batch_size, input_dim)\n",
    "\"\"\"\n",
    "class MSELoss:\n",
    "    \n",
    "    def __init__(self):\n",
    "        pass\n",
    "    \n",
    "    def forward(self, y_pred, y_true):\n",
    "        \n",
    "        # 计算loss\n",
    "        self.y_pred = y_pred\n",
    "        self.y_true = y_true\n",
    "\n",
    "        loss = np.mean((y_pred - y_true) ** 2)\n",
    "\n",
    "        return loss\n",
    "    \n",
    "    def backward(self):\n",
    "\n",
    "        # 计算梯度\n",
    "        # dL: batch_size * output*dim\n",
    "        batch_size = self.y_pred.shape[0]\n",
    "        dL = (2 * (self.y_pred - self.y_true)) / batch_size\n",
    "\n",
    "        return dL"
   ]
  },
  {
   "cell_type": "code",
   "execution_count": 25,
   "metadata": {},
   "outputs": [
    {
     "name": "stdout",
     "output_type": "stream",
     "text": [
      "[ 7  9 11  8 10]\n",
      "[15 15 15]\n"
     ]
    },
    {
     "ename": "NameError",
     "evalue": "name 'aaaa' is not defined",
     "output_type": "error",
     "traceback": [
      "\u001b[1;31m---------------------------------------------------------------------------\u001b[0m",
      "\u001b[1;31mNameError\u001b[0m                                 Traceback (most recent call last)",
      "Cell \u001b[1;32mIn[25], line 15\u001b[0m\n\u001b[0;32m     13\u001b[0m \u001b[38;5;28mprint\u001b[39m(np\u001b[38;5;241m.\u001b[39msum(X, axis\u001b[38;5;241m=\u001b[39m\u001b[38;5;241m0\u001b[39m))\n\u001b[0;32m     14\u001b[0m \u001b[38;5;28mprint\u001b[39m(np\u001b[38;5;241m.\u001b[39msum(X, axis\u001b[38;5;241m=\u001b[39m\u001b[38;5;241m1\u001b[39m))\n\u001b[1;32m---> 15\u001b[0m \u001b[43maaaa\u001b[49m\n\u001b[0;32m     17\u001b[0m \u001b[38;5;28mprint\u001b[39m(X\u001b[38;5;241m.\u001b[39mshape)\n\u001b[0;32m     18\u001b[0m \u001b[38;5;28mprint\u001b[39m(y\u001b[38;5;241m.\u001b[39mshape)\n",
      "\u001b[1;31mNameError\u001b[0m: name 'aaaa' is not defined"
     ]
    }
   ],
   "source": [
    "# 测试\n",
    "fc_layer = FullConnectedLayer(input_dim=5, output_dim=1)\n",
    "loss_function = MSELoss()\n",
    "\n",
    "# 输入和目标\n",
    "X = np.array([[1, 2, 3, 4, 5], \n",
    "              [5, 4, 3, 2, 1], \n",
    "              [1, 3, 5, 2, 4]])\n",
    "y = np.array([[1], \n",
    "              [0], \n",
    "              [1]])\n",
    "\n",
    "print(np.sum(X, axis=0))\n",
    "print(np.sum(X, axis=1))\n",
    "aaaa\n",
    "\n",
    "print(X.shape)\n",
    "print(y.shape)\n",
    "\n",
    "# 前向传播\n",
    "z = fc_layer.forward(X)\n",
    "loss = loss_function.forward(z, y)\n",
    "\n",
    "# 反向传播\n",
    "dz = loss_function.backward()\n",
    "dx = fc_layer.backward(dz)\n",
    "\n",
    "# print(dz.shape)\n",
    "# print(dz)\n",
    "\n",
    "# print(\"Loss:\", loss)\n",
    "# print(\"Gradient wrt Input:\", dx)"
   ]
  },
  {
   "cell_type": "code",
   "execution_count": null,
   "metadata": {},
   "outputs": [],
   "source": []
  },
  {
   "cell_type": "code",
   "execution_count": null,
   "metadata": {},
   "outputs": [],
   "source": []
  }
 ],
 "metadata": {
  "kernelspec": {
   "display_name": "Python 3",
   "language": "python",
   "name": "python3"
  },
  "language_info": {
   "codemirror_mode": {
    "name": "ipython",
    "version": 3
   },
   "file_extension": ".py",
   "mimetype": "text/x-python",
   "name": "python",
   "nbconvert_exporter": "python",
   "pygments_lexer": "ipython3",
   "version": "3.10.13"
  }
 },
 "nbformat": 4,
 "nbformat_minor": 2
}
