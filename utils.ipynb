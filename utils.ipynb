{
 "cells": [
  {
   "cell_type": "markdown",
   "metadata": {},
   "source": [
    "### 1. 求平方根\n",
    "\n",
    "- 使用二分查找搜索区间 `[low, high]`，同时考虑 `tolerance` 作为终止条件。\n",
    "\n",
    "- 时间复杂度推导：时间复杂度为 $O(\\log_2(N))$。\n",
    "\n",
    "  - 初始长度 `[low, high]` 可视为 `\\max(1, \\text{num})`。\n",
    "\n",
    "  - 迭代次数满足：\n",
    "\n",
    "    $$\n",
    "    \\frac{\\max(1, \\text{num})}{2^k} \\leq \\text{tolerance}\n",
    "    $$\n",
    "\n",
    "  - 因此：\n",
    "\n",
    "    $$\n",
    "    k \\geq \\log_2\\left(\\frac{\\max(1, \\text{num})}{\\text{tolerance}}\\right)\n",
    "    $$"
   ]
  },
  {
   "cell_type": "code",
   "execution_count": 17,
   "metadata": {},
   "outputs": [
    {
     "name": "stdout",
     "output_type": "stream",
     "text": [
      "None\n",
      "-3.00000000001819\n"
     ]
    }
   ],
   "source": [
    "import math\n",
    "import numpy as np\n",
    "\n",
    "def my_sqrt(num, tolerance=1e-10):\n",
    "    # deal with special value\n",
    "    if num < 0:\n",
    "        return None\n",
    "    if num == 0.0 or num == 1.0:\n",
    "        return num\n",
    "\n",
    "    # binary search\n",
    "    low, high = (1, num) if num > 1 else (0, 1)\n",
    "    while high - low > tolerance:\n",
    "        mid = low + (high - low)/2.0\n",
    "        if mid ** 2 > num:\n",
    "            high = mid\n",
    "        else:\n",
    "            low = mid\n",
    "    \n",
    "    return low + (high - low)/2.0\n",
    "\n",
    "def my_sqrt3(num, tolerance=1e-10):\n",
    "    \n",
    "    # deal with special value\n",
    "    if num == 0.0 or num == 1.0:\n",
    "        return num\n",
    "    \n",
    "    flag = 1 if num > 0 else -1\n",
    "    low, high = (1, abs(num)) if abs(num) > 1 else (0, 1)\n",
    "\n",
    "    while high - low > tolerance:\n",
    "        mid = low + (high - low) / 2.0\n",
    "        if mid ** 3 > abs(num):\n",
    "            high = mid\n",
    "        else:\n",
    "            low = mid\n",
    "    \n",
    "    return flag * (low + (high - low)/2.0)\n",
    "\n",
    "num = -27\n",
    "print(my_sqrt(num))\n",
    "print(my_sqrt3(num))\n"
   ]
  },
  {
   "cell_type": "markdown",
   "metadata": {},
   "source": [
    "### 2. 增量式求均值、方差\n",
    "\n",
    "- 均值计算\n",
    "    \n",
    "    $$\n",
    "    \\mu_n = \\mu_{n - 1} + \\frac{num - \\mu_{n - 1}}{n}\n",
    "    $$\n",
    "- 方差计算\n",
    "    \n",
    "    $$\n",
    "    n\\sigma_n^2 = (n - 1)\\sigma_{n - 1}^2 + (num - \\mu_{n - 1})(num - \\mu_n)\n",
    "    $$\n",
    "  \n",
    "\n",
    "时间复杂度 $O(N)$"
   ]
  },
  {
   "cell_type": "code",
   "execution_count": 18,
   "metadata": {},
   "outputs": [
    {
     "name": "stdout",
     "output_type": "stream",
     "text": [
      "(0.4347418797908959, 0.09718840805286771)\n",
      "0.43474187979089596\n",
      "0.0971884080528677\n"
     ]
    }
   ],
   "source": [
    "# 增量式计算均值、方差\n",
    "def my_mean_var(nums):\n",
    "\n",
    "    cnt = 0\n",
    "    mean = 0.0\n",
    "    M2 = 0.0\n",
    "\n",
    "    for num in nums:\n",
    "\n",
    "        cnt += 1\n",
    "        delta1 = num - mean\n",
    "        mean += (num - mean) / cnt\n",
    "        delta2 = num - mean\n",
    "        M2 += delta1 * delta2\n",
    "\n",
    "    return mean, M2/cnt \n",
    "\n",
    "nums = np.random.rand(10)\n",
    "print(my_mean_var(nums))\n",
    "print(np.mean(nums))\n",
    "print(np.var(nums))       \n"
   ]
  },
  {
   "cell_type": "markdown",
   "metadata": {},
   "source": [
    "### 3. 矩阵乘法\n",
    "\n",
    "- 时间复杂度：$O(mnp)$\n",
    "\n",
    "- 矩阵连乘"
   ]
  },
  {
   "cell_type": "code",
   "execution_count": 25,
   "metadata": {},
   "outputs": [
    {
     "name": "stdout",
     "output_type": "stream",
     "text": [
      "[[0.98805784 0.62242752 0.94039275]\n",
      " [0.72116822 0.52527739 0.45796779]]\n",
      "[[1.3587349  1.9933833 ]\n",
      " [0.85553284 1.34927024]]\n",
      "[[1.3587349  1.9933833 ]\n",
      " [0.85553284 1.34927024]]\n"
     ]
    }
   ],
   "source": [
    "# 矩阵乘法\n",
    "def my_dot(A, B):\n",
    "\n",
    "    m, n = A.shape\n",
    "    n_b, p = B.shape\n",
    "\n",
    "    if n != n_b:\n",
    "        return None\n",
    "\n",
    "    ans = np.zeros([m, p])\n",
    "    for i in range(m):\n",
    "        for j in range(p):\n",
    "            for k in range(n):\n",
    "                ans[i][j] += A[i][k] * B[k][j]\n",
    "\n",
    "    return ans\n",
    "\n",
    "A = np.random.rand(2, 3)\n",
    "B = np.random.rand(3, 2)\n",
    "print(A)\n",
    "print(my_dot(A, B))\n",
    "print(np.dot(A, B))"
   ]
  },
  {
   "cell_type": "markdown",
   "metadata": {},
   "source": [
    "\n"
   ]
  }
 ],
 "metadata": {
  "kernelspec": {
   "display_name": "Python 3",
   "language": "python",
   "name": "python3"
  },
  "language_info": {
   "codemirror_mode": {
    "name": "ipython",
    "version": 3
   },
   "file_extension": ".py",
   "mimetype": "text/x-python",
   "name": "python",
   "nbconvert_exporter": "python",
   "pygments_lexer": "ipython3",
   "version": "3.8.19"
  }
 },
 "nbformat": 4,
 "nbformat_minor": 2
}
